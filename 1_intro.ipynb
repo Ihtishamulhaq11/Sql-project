{
 "cells": [
  {
   "cell_type": "markdown",
   "metadata": {},
   "source": [
    "# Data Collection\n",
    "\n",
    "This is the data of 1000 films that have released in 2006.\n",
    "And the data is taken from Kaggle which provide an open source data storage."
   ]
  },
  {
   "cell_type": "markdown",
   "metadata": {},
   "source": [
    "# Goals and Deliverables\n",
    "   ## 1. claning the data\n",
    "\n",
    "        -Removing Duplicate Values\n",
    "        -Make the Data consistant\n",
    "        -Dealing with Nulll and Blank Values\n",
    "        -Droping unnecessary Values\n",
    "\n",
    "   ## 2. Exploratory Data Analysis\n",
    "        -Exploring the Data\n",
    "        -Finding the Highest Box Office Collection by Film and Catagory\n",
    "        -Finding the numbers and Name of the Film by an Actor\n",
    "        -Analyse the Inventory\n"
   ]
  }
 ],
 "metadata": {
  "kernelspec": {
   "display_name": "my_project",
   "language": "python",
   "name": "python3"
  },
  "language_info": {
   "name": "python",
   "version": "3.11.9"
  }
 },
 "nbformat": 4,
 "nbformat_minor": 2
}
